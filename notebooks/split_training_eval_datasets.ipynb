{
 "cells": [
  {
   "cell_type": "markdown",
   "metadata": {},
   "source": [
    "## Split into Training and Evaluation Datasets\n",
    "\n",
    "*  The training and testing dataset were split using the letter number assigned during segmentation, into even and odd numbers.  \n",
    "*  Since topic evolved over time due to the nature of newspapers, this approach was more robust than splitting the datasets based on years as tempting as it was.  \n",
    "*  Even were designated a training and Odd as evaluation. This was also easily interchangeable to test further."
   ]
  },
  {
   "cell_type": "code",
   "execution_count": 25,
   "metadata": {},
   "outputs": [
    {
     "name": "stdout",
     "output_type": "stream",
     "text": [
      "Even 149, Odds 207\n"
     ]
    }
   ],
   "source": [
    "import os\n",
    "import re\n",
    "import sys\n",
    "import glob\n",
    "from pathlib import Path\n",
    "from pprint import pprint\n",
    "\n",
    "current_directory = os.getcwd()\n",
    "prj_root = os.path.dirname(current_directory)\n",
    "data_dir = f'{prj_root}/data'\n",
    "annif_unesco_dir = f'{data_dir}/annif/letters-unesco'\n",
    "training_dir = f'{data_dir}/annif/letters-unesco/training'\n",
    "eval_dir = f'{data_dir}/annif/letters-unesco/evaluation'\n",
    "txt_proc_dir = f'{prj_root}/data/TXT_PROC'\n",
    "txt_xml_dir = f'{prj_root}/data/TXT_XML'\n",
    "\n",
    "proc_year = \"1974\"\n",
    "\n",
    "path_list = []\n",
    "for f in sorted(Path(annif_unesco_dir).glob(f'{proc_year}/*.txt')):\n",
    "    txt_path = str(f) # cast PosixPath to str\n",
    "    txt_name = os.path.basename(txt_path)\n",
    "    path_list.append(txt_name)\n",
    "    \n",
    "odds = []\n",
    "even = []\n",
    "for idx, path in enumerate(path_list):\n",
    "    txt_name = os.path.basename(path)\n",
    "    txt_sans_ext = os.path.splitext(txt_name)[0]\n",
    "    txt_proc_path = f\"{annif_unesco_dir}/{proc_year}/{path}\"\n",
    "    letter_no = txt_sans_ext[txt_sans_ext.rindex('-')+1:]\n",
    "    if (int(letter_no) % 2) == 0:\n",
    "        even.append(txt_sans_ext)\n",
    "    else:\n",
    "        odds.append(txt_sans_ext)\n",
    "\n",
    "print(f\"Even {len(even)}, Odds {len(odds)}\")"
   ]
  },
  {
   "cell_type": "code",
   "execution_count": 26,
   "metadata": {},
   "outputs": [],
   "source": [
    "from shutil import copyfile, rmtree\n",
    "\n",
    "training_directory = f'{training_dir}/{proc_year}'\n",
    "if not os.path.exists(training_directory):\n",
    "    os.makedirs(training_directory)\n",
    "\n",
    "for even_file in even:\n",
    "    file_path = f'{even_file}.txt'\n",
    "    key_path = f'{even_file}.key'\n",
    "\n",
    "    copyfile(f\"{annif_unesco_dir}/{proc_year}/{file_path}\", f\"{training_dir}/{proc_year}/{file_path}\")\n",
    "    copyfile(f\"{annif_unesco_dir}/{proc_year}/{key_path}\", f\"{training_dir}/{proc_year}/{key_path}\")\n",
    "\n",
    "eval_directory = f'{eval_dir}/{proc_year}'\n",
    "if not os.path.exists(eval_directory):\n",
    "    os.makedirs(eval_directory)    \n",
    "    \n",
    "for odd_file in odds:\n",
    "    file_path = f'{odd_file}.txt'\n",
    "    key_path = f'{odd_file}.key'\n",
    "\n",
    "    copyfile(f\"{annif_unesco_dir}/{proc_year}/{file_path}\", f\"{eval_dir}/{proc_year}/{file_path}\")\n",
    "    copyfile(f\"{annif_unesco_dir}/{proc_year}/{key_path}\", f\"{eval_dir}/{proc_year}/{key_path}\")    "
   ]
  },
  {
   "cell_type": "code",
   "execution_count": 27,
   "metadata": {},
   "outputs": [],
   "source": [
    "# delete the year folder now?!\n",
    "try:\n",
    "    rmtree(f'{annif_unesco_dir}/{proc_year}')\n",
    "except OSError as e:\n",
    "    print(\"Error: %s : %s\" % (f'{annif_unesco_dir}/{proc_year}', e.strerror))"
   ]
  },
  {
   "cell_type": "markdown",
   "metadata": {},
   "source": [
    "#### Load Vocabulary\n",
    "`annif loadvoc letters-omikuji-bonsai-en data/vocabs/unesco-en.tsv`  \n",
    "\n",
    "#### Train with the odds numbered letters in all years 1974‒1978  \n",
    "`annif train letters-omikuji-bonsai-en data/annif/letters-unesco/evaluation/1974 data/annif/letters-unesco/evaluation/1975 data/annif/letters-unesco/evaluation/1976 data/annif/letters-unesco/evaluation/1977 data/annif/letters-unesco/evaluation/1978`\n",
    "\n",
    "#### Use even numbered letters in all the years 1974‒1978  \n",
    "`annif eval letters-omikuji-bonsai-en --limit 5 --threshold 0.6 data/annif/letters-unesco/training/1974 data/annif/letters-unesco/training/1975 data/annif/letters-unesco/training/1976 data/annif/letters-unesco/training/1977 data/annif/letters-unesco/training/1978`\n",
    "\n",
    "#### Quick test\n",
    "`cat data/TXT_PROC/1975/dds-89477-page-8-article-6.txt | annif suggest letters-omikuji-bonsai-en`  \n",
    "\n",
    "#### To find the best precision for a directory\n",
    "`annif optimize letters-omikuji-bonsai-en data/annif/letters-unesco/training/1975`"
   ]
  },
  {
   "cell_type": "markdown",
   "metadata": {},
   "source": [
    "`annif loadvoc letters-omikuji-parabel-en data/vocabs/unesco-en.tsv`  \n",
    "`annif train letters-omikuji-parabel-en data/training/letters-unesco`  \n",
    "`cat /home/anthony/Documents/UofA/Thesis/lettersiterate/data/TXT_PRE/1975/dds-89477-page-8-article-6-PRE.txt  | annif suggest letters-omikuji-parabel-en`  "
   ]
  },
  {
   "cell_type": "markdown",
   "metadata": {},
   "source": [
    "`annif loadvoc letters-fasttext data/vocabs/unesco-en.tsv`  \n",
    "`annif train letters-fasttext data/training/letters-unesco`  \n",
    "`cat /home/anthony/Documents/UofA/Thesis/lettersiterate/data/TXT_PRE/1975/dds-89477-page-8-article-6-PRE.txt  | annif suggest letters-fasttext`  "
   ]
  },
  {
   "cell_type": "code",
   "execution_count": null,
   "metadata": {
    "collapsed": true
   },
   "outputs": [],
   "source": []
  }
 ],
 "metadata": {
  "kernelspec": {
   "display_name": "Python 3",
   "language": "python",
   "name": "python3"
  },
  "language_info": {
   "codemirror_mode": {
    "name": "ipython",
    "version": 3
   },
   "file_extension": ".py",
   "mimetype": "text/x-python",
   "name": "python",
   "nbconvert_exporter": "python",
   "pygments_lexer": "ipython3",
   "version": "3.6.5"
  }
 },
 "nbformat": 4,
 "nbformat_minor": 2
}
